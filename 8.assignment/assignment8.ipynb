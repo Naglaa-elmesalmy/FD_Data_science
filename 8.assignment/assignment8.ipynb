{
 "cells": [
  {
   "cell_type": "markdown",
   "metadata": {},
   "source": [
    "Q1:Python Program to Check if a Number is Positive, Negative or 0"
   ]
  },
  {
   "cell_type": "code",
   "execution_count": 2,
   "metadata": {},
   "outputs": [],
   "source": [
    "def check_number (num):\n",
    "    if num==0:\n",
    "        print(\"the number is zero\")\n",
    "    elif num>0:\n",
    "        print(\"the number \",num,\" is Positive\")\n",
    "    else:\n",
    "        print(\"the number \",num,\" is Negative\")"
   ]
  },
  {
   "cell_type": "code",
   "execution_count": 3,
   "metadata": {},
   "outputs": [
    {
     "name": "stdout",
     "output_type": "stream",
     "text": [
      "the number is zero\n",
      "the number  1  is Positive\n",
      "the number  -1  is Negative\n"
     ]
    }
   ],
   "source": [
    "check_number(0)\n",
    "check_number(1)\n",
    "check_number(-1)"
   ]
  },
  {
   "cell_type": "markdown",
   "metadata": {},
   "source": [
    "Q2:Python Program to Find the Largest Among Three Numbers"
   ]
  },
  {
   "cell_type": "code",
   "execution_count": 6,
   "metadata": {},
   "outputs": [],
   "source": [
    "def check_largest(num1,num2,num3):\n",
    "    lst=[num1,num2,num3]\n",
    "    return max(lst)"
   ]
  },
  {
   "cell_type": "code",
   "execution_count": 7,
   "metadata": {},
   "outputs": [
    {
     "name": "stdout",
     "output_type": "stream",
     "text": [
      "the largest: 40\n"
     ]
    }
   ],
   "source": [
    "print(\"the largest:\",check_largest(5,20,40))"
   ]
  },
  {
   "cell_type": "markdown",
   "metadata": {},
   "source": [
    "Q3:Python Program to Check Prime Number"
   ]
  },
  {
   "cell_type": "code",
   "execution_count": 12,
   "metadata": {},
   "outputs": [],
   "source": [
    "def IS_Prime (num):\n",
    "    prime=True\n",
    "    for x in range(2,num-1):\n",
    "        if(num%x)==0:\n",
    "            prime=False\n",
    "            break\n",
    "    return prime"
   ]
  },
  {
   "cell_type": "code",
   "execution_count": 13,
   "metadata": {},
   "outputs": [
    {
     "name": "stdout",
     "output_type": "stream",
     "text": [
      "the  13 is prime\n"
     ]
    }
   ],
   "source": [
    "num=13\n",
    "if(IS_Prime(num)):\n",
    "    print(\"the \",num,\"is prime\")\n",
    "else:\n",
    "    print(\"the \",num,\"is not prime\")"
   ]
  },
  {
   "cell_type": "code",
   "execution_count": 14,
   "metadata": {},
   "outputs": [
    {
     "name": "stdout",
     "output_type": "stream",
     "text": [
      "the  20 is not prime\n"
     ]
    }
   ],
   "source": [
    "num=20\n",
    "if(IS_Prime(num)):\n",
    "    print(\"the \",num,\"is prime\")\n",
    "else:\n",
    "    print(\"the \",num,\"is not prime\")"
   ]
  },
  {
   "cell_type": "markdown",
   "metadata": {},
   "source": [
    "Q4:Python Program to Print all Prime Numbers in an Interval"
   ]
  },
  {
   "cell_type": "code",
   "execution_count": 17,
   "metadata": {},
   "outputs": [
    {
     "name": "stdout",
     "output_type": "stream",
     "text": [
      "enter the begin of interval 2\n",
      "enter the end of interval 12\n",
      "all Prime Numbers  [2, 3, 5, 7, 11]\n"
     ]
    }
   ],
   "source": [
    "num1=int(input(\"enter the begin of interval \"))\n",
    "num2=int(input(\"enter the end of interval \"))\n",
    "lst=[x for x in range(num1,num2+1) if IS_Prime(x)]\n",
    "print(\"all Prime Numbers \",lst)"
   ]
  },
  {
   "cell_type": "markdown",
   "metadata": {},
   "source": [
    "Q5:Python Program to Count the Number of Each Vowel"
   ]
  },
  {
   "cell_type": "code",
   "execution_count": 24,
   "metadata": {},
   "outputs": [
    {
     "name": "stdout",
     "output_type": "stream",
     "text": [
      "Count the Number of Each Vowel is: 14\n"
     ]
    }
   ],
   "source": [
    "str_check=\"Python Program to Count the Number of Each Vowel\"\n",
    "num=len([x for x in str_check if x.lower() in ['a' , 'e' , 'i' , 'o' , 'u']])\n",
    "print(\"Count the Number of Each Vowel is:\",num)\n",
    "    "
   ]
  },
  {
   "cell_type": "code",
   "execution_count": null,
   "metadata": {},
   "outputs": [],
   "source": []
  }
 ],
 "metadata": {
  "kernelspec": {
   "display_name": "Python 3",
   "language": "python",
   "name": "python3"
  },
  "language_info": {
   "codemirror_mode": {
    "name": "ipython",
    "version": 3
   },
   "file_extension": ".py",
   "mimetype": "text/x-python",
   "name": "python",
   "nbconvert_exporter": "python",
   "pygments_lexer": "ipython3",
   "version": "3.8.3"
  }
 },
 "nbformat": 4,
 "nbformat_minor": 4
}
